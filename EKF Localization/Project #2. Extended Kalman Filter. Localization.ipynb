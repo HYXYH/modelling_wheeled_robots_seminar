{
 "cells": [
  {
   "cell_type": "markdown",
   "metadata": {},
   "source": [
    "# Project #2. Extented Kalman Filter. Localization\n",
    "\n",
    "The project is denoted to nonlinear Kalman Filter version - so called [Extended Kalman Filter (EKF)](https://en.wikipedia.org/wiki/Extended_Kalman_filter).\n",
    "\n",
    "EKF has various applications. One of them is Localization task.\n",
    "\n",
    "Localization - robot state estimation through sensor fusion and prior map knoledge. It means that robot's pose is unknown, but the map is given. Using the knoledge of control signals:\n",
    "$${u_0, ..., u_t}$$ and measurements: $$z_0, ..., z_t$$ current robot's state $x_t$ should be estimated.\n",
    "\n",
    "Assuptions:\n",
    "- feature-based map is known. Use several variants of maps\n",
    "- features are destingwishable - i.e. correspondeces are known\n",
    "- robot has a bicycle kinematics\n",
    "- robot has a mathematical model of \"absolute features sensor\". This sensor can detect and distinguish all features around the robot at range of R = 10 meters\n",
    "- robot has gps sensor. This sensor returns robot's position with some error\n",
    "- map has size of 200 by 200 meters\n",
    "\n",
    "\n",
    "## Workflow of the project:\n",
    "- Implement classes and it's methods:\n",
    "\n",
    "```Feature```, ```Map```, ```Feature_Sensor```, ```EKF_Localizer```, ```EKF_Experiment```\n",
    "- Use bycicle model with PID controller from [project #1](http://localhost:8888/tree/Bicycle%20model.%20PID%20controller) to make robot move along some path on the map\n",
    "- Tune up measurement noise covariance matrix\n",
    "- Tune up motion noise covariance matrix in space of $$(v, w)$$ control signals, where $v$ - linear speed and $w$ - angular speed. The kinemmatical equations of bicycle model should be improved to take $(v,w)$ as a control inputs\n",
    "- The state of the EKF filter should converge to ground truth position of the robot\n",
    "- Plot graphs and animations\n",
    "- Write small report\n",
    "- EKF state vector should have dimension of **3**: $$\\overline{x} = (x,y,\\theta)$$\n",
    "\n",
    "## Graphs to plot:\n",
    "- plot map with it's features. Print all features's id's\n",
    "- plot actual position of the robot and EKF estimation (covariance ellipsoid)\n",
    "- plot robot's trajectory\n",
    "\n",
    "\n",
    "## Write little report. Give answers on the following questions:\n",
    "- Try several different maps. Are they all sutable for EKF tuning?\n",
    "- What happens if robot doesn't move and observe only one feature? Two features? Three features?\n",
    "- What further improvements can be done on EKF filter?\n",
    "\n",
    "\n",
    "\n",
    "## My contacts\n",
    "- Email: Panchenko@cognitive.ru\n",
    "- Telegram: +7-903-270-78-29\n"
   ]
  },
  {
   "cell_type": "code",
   "execution_count": 1,
   "metadata": {},
   "outputs": [],
   "source": [
    "class Feature:\n",
    "    def __init__(self, x, y, s):\n",
    "        #\n",
    "        # TODO: write some code here for Feature class initialization\n",
    "        #\n",
    "        pass"
   ]
  },
  {
   "cell_type": "code",
   "execution_count": 3,
   "metadata": {},
   "outputs": [],
   "source": [
    "class Map:\n",
    "    features = [] # put map features in a list\n",
    "    "
   ]
  },
  {
   "cell_type": "code",
   "execution_count": 6,
   "metadata": {},
   "outputs": [],
   "source": [
    "class FeatureSensor:\n",
    "    R = 5\n",
    "    def __init__(self, R, Map):\n",
    "        pass\n",
    "    def getMeasurements(self, robot_pose):\n",
    "        #\n",
    "        # TODO: returns list of measurements with reference to current robot pose and sensor range\n",
    "        #\n",
    "        pass"
   ]
  },
  {
   "cell_type": "markdown",
   "metadata": {},
   "source": [
    "$x_{t+1} = g(u, x_t) + \\delta_t$, where $\\delta_t$ - is a noise inducted from $(u,v)$ control space.\n",
    "\n",
    "G - Jacobian of function g:\n",
    "\n",
    "$$G = \\dfrac{dg(u,x)}{dx}$$\n",
    "\n",
    "$z = (r,\\phi)$ - where $r$ - is distance to feature, $\\phi$ - the bearing to feature.\n",
    "\n",
    "$z = \\left(\\sqrt{(x - x_i)^2 + (y - y_i)^2}, arctan\\left(\\dfrac{y - y_i}{x - x_i}\\right) - \\theta\\right) = h(x)$\n",
    "\n",
    "V - Jacobian of function h:\n",
    "\n",
    "$$V = \\dfrac{dh(x)}{dx}$$\n"
   ]
  },
  {
   "cell_type": "code",
   "execution_count": 11,
   "metadata": {},
   "outputs": [],
   "source": [
    "class EKF_Localizer:\n",
    "    def __init__(self):\n",
    "        pass\n",
    "    def predict(control):\n",
    "        #\n",
    "        # TODO: do prediction step\n",
    "        #\n",
    "        pass\n",
    "    def update(measurements):\n",
    "        #\n",
    "        # TODO: do update step\n",
    "        #\n",
    "        pass\n",
    "    def getG():\n",
    "        #\n",
    "        # TODO: computer Jacobian of nonlinear function g(u,x) with respect to state x\n",
    "        #\n",
    "        pass\n",
    "    def getV():\n",
    "        #\n",
    "        # TODO: compute Jacobian of nonlinear function g(u,x) with respect to control u\n",
    "        #\n",
    "        pass\n",
    "    def getH():\n",
    "        pass\n",
    "        \n",
    "    "
   ]
  },
  {
   "cell_type": "markdown",
   "metadata": {},
   "source": [
    "## Project report:\n",
    "\n",
    "Put your report here. Feel free to use pictures, graphs, animations.\n",
    "\n"
   ]
  }
 ],
 "metadata": {
  "kernelspec": {
   "display_name": "Python 3",
   "language": "python",
   "name": "python3"
  },
  "language_info": {
   "codemirror_mode": {
    "name": "ipython",
    "version": 3
   },
   "file_extension": ".py",
   "mimetype": "text/x-python",
   "name": "python",
   "nbconvert_exporter": "python",
   "pygments_lexer": "ipython3",
   "version": "3.5.2"
  }
 },
 "nbformat": 4,
 "nbformat_minor": 2
}
