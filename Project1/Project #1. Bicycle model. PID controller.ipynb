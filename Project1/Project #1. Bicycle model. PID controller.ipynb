{
 "cells": [
  {
   "cell_type": "markdown",
   "metadata": {},
   "source": [
    "# Project #1. Bicycle model. PID controller\n",
    "\n",
    "The project is related to modeling vehicle kinematics. Simple Bicycle model is used to model conventional vehicle motion.\n",
    "\n",
    "Assumptions:\n",
    "- flat world assumption\n",
    "- no slip in contact points - i.e. no drifting\n",
    "- use L = 2.65 meters. This is correct distance for our Nissan XTrail test vehicle\n",
    " \n",
    "## The flow of the project:\n",
    "- Implement classes **PID, Trajectory, BicycleModel, Robot, Experiment**. Some blank classes are down below in cells for reference.\n",
    "- Implement PID controller tuning procedure - the Twiddle Algorythm. Good video with insight on Twiddle Algo is here https://www.youtube.com/watch?v=2uQ2BSzDvXs. Use class Experiment to automate experiment runs.\n",
    "- Run tuning procedure and obtain resulting coeffs for PID controller\n",
    "- Make a test run with tuned controller but on new trajectory\n",
    "- Plot graphs and animations\n",
    "- Write small report\n",
    "\n",
    "\n",
    "## Graphs to plot:\n",
    "- Plot animation of how Twiddle Algorythm tunes PID coeffs\n",
    "- Plot Steering vs Time graph to visualize steering commands for each experiment\n",
    "- Plot CTE vs Path length (NOT the time) graph to visualize cross track error along the trajectory\n",
    "\n",
    "\n",
    "## Write little report. Give answers on the following questions:\n",
    "- Try several different trajectories. Are they all sutable for PID tuning?\n",
    "- How many iterations does is take for Twiddle to converge?\n",
    "- Try to disturb initial position of a vehicle. How model behaives?\n",
    "- What further improvements can be done on model and on PID tuning procedure?\n",
    "\n",
    "\n",
    "\n",
    "## My contacts\n",
    "- Email: Panchenko@cognitive.ru\n",
    "- Telegram: +7-903-270-78-29\n",
    "\n",
    "\n"
   ]
  },
  {
   "cell_type": "code",
   "execution_count": 61,
   "metadata": {},
   "outputs": [],
   "source": [
    "# More info on PID controller you can find here:\n",
    "# https://en.wikipedia.org/wiki/PID_controller\n",
    "class PID:    \n",
    "    def __init__(self, kp,ki,kd):\n",
    "        #\n",
    "        # TODO: write some initialization code here for PID controller\n",
    "        #\n",
    "        pass\n",
    "    \n",
    "    def update(CTE):\n",
    "        control = 0\n",
    "        # \n",
    "        # TODO: write update code here\n",
    "        #\n",
    "        return control\n",
    "    #\n",
    "    # Any additional functions if required\n",
    "    #"
   ]
  },
  {
   "cell_type": "code",
   "execution_count": 62,
   "metadata": {
    "collapsed": true
   },
   "outputs": [],
   "source": [
    "class Trajectory:\n",
    "    def __init__(self, points):\n",
    "        #\n",
    "        # TODO: polyline, splines or any representation of a curve you like\n",
    "        #\n",
    "        pass\n",
    "        \n",
    "    def getDistanceFromPoint(point):\n",
    "        CTE = 0 # CTE - Cross Track Error - distance from give point to neares point on a curve\n",
    "        #\n",
    "        # TODO: calculate distance to curve for a given point\n",
    "        #\n",
    "        return CTE\n",
    "    \n",
    "    #\n",
    "    # Any additional functions if required\n",
    "    #"
   ]
  },
  {
   "cell_type": "code",
   "execution_count": 63,
   "metadata": {
    "collapsed": true
   },
   "outputs": [],
   "source": [
    "class BicycleModel:\n",
    "    def __init__(self, x, y, theta, L):\n",
    "        #\n",
    "        # TODO: write some initialization code here\n",
    "        #\n",
    "        pass    \n",
    "    \n",
    "    def Move(self, steering, speed):\n",
    "        #\n",
    "        # TODO: update bicycle model state via known control signals\n",
    "        #\n",
    "        pass\n",
    "    #\n",
    "    # Any additional functions if required\n",
    "    #"
   ]
  },
  {
   "cell_type": "code",
   "execution_count": 64,
   "metadata": {
    "collapsed": true
   },
   "outputs": [],
   "source": [
    "class Robot:\n",
    "    def __init__(self, bicycleModel, pidController):\n",
    "        #\n",
    "        # TODO: some init code here\n",
    "        #\n",
    "        pass\n",
    "    \n",
    "    def followPath(trajectory):\n",
    "        #\n",
    "        # TODO: \"follow path\" code\n",
    "        #\n",
    "        pass\n",
    "    \n",
    "    def draw():\n",
    "        #\n",
    "        # TODO: draw robot steering vs. time plot in separate window\n",
    "        #\n",
    "        pass\n",
    "    #\n",
    "    # Any additional functions if required\n",
    "    #"
   ]
  },
  {
   "cell_type": "code",
   "execution_count": 65,
   "metadata": {
    "collapsed": true
   },
   "outputs": [],
   "source": [
    "class Experiment:\n",
    "    def __init__(self, Robot, Trajectory):\n",
    "        #\n",
    "        # TODO: Some init code here. Setup Robot and trajectory. May be some other macro params\n",
    "        #\n",
    "        pass\n",
    "        \n",
    "    def run():\n",
    "        score = 0\n",
    "        #\n",
    "        # TODO: Run experiment and get score\n",
    "        #\n",
    "        return score\n",
    "    \n",
    "    def draw():\n",
    "        #\n",
    "        # TODO: draw animation window with robot model and trajectory\n",
    "        #\n",
    "        pass\n",
    "    #\n",
    "    # Any additional functions if required\n",
    "    #"
   ]
  },
  {
   "cell_type": "code",
   "execution_count": 66,
   "metadata": {},
   "outputs": [],
   "source": [
    "\n",
    "#put PID tuning code in this cell\n",
    "\n",
    "best_error = Experiment.run()\n",
    "\n",
    "#\n",
    "# while(tolerance < error_delta):\n",
    "#        ....\n"
   ]
  },
  {
   "cell_type": "code",
   "execution_count": null,
   "metadata": {
    "collapsed": true
   },
   "outputs": [],
   "source": []
  },
  {
   "cell_type": "markdown",
   "metadata": {},
   "source": [
    "## Project report:\n",
    "\n",
    "Put your report here. Feel free to use pictures, graphs, animations.\n",
    "\n"
   ]
  }
 ],
 "metadata": {
  "kernelspec": {
   "display_name": "Python 3",
   "language": "python",
   "name": "python3"
  },
  "language_info": {
   "codemirror_mode": {
    "name": "ipython",
    "version": 3
   },
   "file_extension": ".py",
   "mimetype": "text/x-python",
   "name": "python",
   "nbconvert_exporter": "python",
   "pygments_lexer": "ipython3",
   "version": "3.6.0"
  }
 },
 "nbformat": 4,
 "nbformat_minor": 2
}
